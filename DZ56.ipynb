{
 "cells": [
  {
   "attachments": {},
   "cell_type": "markdown",
   "metadata": {},
   "source": [
    "## Задание 1\n",
    "Продакт на главной mail.ru решил протестировать в рекомендательной ленте контента вместо карточек со статьями видеоплеер с короткими видео.  \n",
    "Нынешний таймспент на юзера в день в среднем равен 25 минут, а стандартная ошибка (SD) равна 156.   \n",
    "Мы предполагаем, что в новой версии таймспент на юзера в день изменится на 10%.  \n",
    "Средний трафик 20000 человек в день.   \n",
    "Посчитайте сколько дней необходимо держать эксперимент при alpha = 5% и beta = 20% ."
   ]
  },
  {
   "cell_type": "code",
   "execution_count": 21,
   "metadata": {},
   "outputs": [
    {
     "name": "stdout",
     "output_type": "stream",
     "text": [
      "6.7542\n"
     ]
    }
   ],
   "source": [
    "from typing import Union\n",
    "from statsmodels.stats.power import tt_ind_solve_power\n",
    "\n",
    "# Создаем функцию для расчета размера эффекта между двумя выборками\n",
    "# с непрерывными признаками\n",
    "\n",
    "\n",
    "def continuous_effect_size(mean1: Union[float, int],\n",
    "                           std1: Union[float, int],\n",
    "                           mean2: Union[float, int],\n",
    "                           std2: Union[float, int],\n",
    "                           nobs1: int = 10_000,\n",
    "                           nobs2: int = 10_000) -> float:\n",
    "\n",
    "    effect_size_formula = (mean1 - mean2) / ((std1**2 + std2**2) / 2) ** 0.5\n",
    "    return effect_size_formula\n",
    "\n",
    "# Создаем функцию для расчета необходимого размера выборок,\n",
    "# требуемой статистической мощности и уровня значимости\n",
    "\n",
    "\n",
    "def sample_size_continuous(effect_size: float,\n",
    "                           alpha: float = .05,\n",
    "                           beta: float = .2,\n",
    "                           ratio: Union[float, int] = 1) -> int:\n",
    "\n",
    "    n = tt_ind_solve_power(effect_size=effect_size,\n",
    "                           alpha=alpha,\n",
    "                           power=(1 - beta),\n",
    "                           ratio=ratio,\n",
    "                           )\n",
    "    return int(n * 2)\n",
    "\n",
    "\n",
    "# Задаем параметры эксперимента (изменяем среднее и стандартное отклонение выборки\n",
    "# теста на 10%)\n",
    "mu_control, mu_test = 25, 25*1.10\n",
    "std_control, std_test = 156, 156*1.10\n",
    "traffic_per_day = 20000\n",
    "\n",
    "# Вычисляем размер эффекта между выборками\n",
    "effect_size = continuous_effect_size(\n",
    "    mean1=mu_control, std1=std_control, mean2=mu_test, std2=std_test)\n",
    "\n",
    "# Расчитываем размер выборки с требуемой статистической мощностью на заданном\n",
    "# уровне значимости. Определяем, сколько дней нужно для получения достаточного\n",
    "# трафика на сайте\n",
    "traffic = sample_size_continuous(effect_size=effect_size, alpha=.05, beta=.2)\n",
    "traffic_per_day = 20000\n",
    "traffic_per_day_needed = traffic / traffic_per_day\n",
    "print(traffic_per_day_needed)\n"
   ]
  },
  {
   "attachments": {},
   "cell_type": "markdown",
   "metadata": {},
   "source": [
    "### Ответ: \n",
    "Из расчетов следует, что для того чтобы изменить продукт на главной странице сайта Mail.ru рекомендательной лентой коротких видео, необходимо проводить эксперимент не менее 7 дней. Такой срок позволит обеспечить надежные результаты статистического теста гипотезы о равенстве средних двух выборок (до и после изменения продукта). Использование в рекомендательной ленте коротких видео имеет потенциал повышения таймспента на сайте на 10%, что может положительно повлиять на активность и удержание пользователей. Однако, необходимо убедиться в значимости этого изменения, проведя эксперимент и проанализировав результаты."
   ]
  },
  {
   "attachments": {},
   "cell_type": "markdown",
   "metadata": {},
   "source": [
    "## Задание 2\n",
    "Наша продуктовая команда в ecommerce магазине планирует запустить тест, направленный на ускорение загрузки сайта.   \n",
    "Одна из основных метрик bounce rate в GA = 40%. Мы предполагаем, что при оптимизации сайта она изменится минимум на 20%.   \n",
    "Средний трафик 4000 человек в день. Посчитайте сколько нам нужно дней держать эксперимент при alpha = 5% и beta = 20%"
   ]
  },
  {
   "cell_type": "code",
   "execution_count": 22,
   "metadata": {},
   "outputs": [
    {
     "name": "stdout",
     "output_type": "stream",
     "text": [
      "Рекомендуемая выборка 160, количество юзеров покидающих первую страницу в день 1600\n"
     ]
    }
   ],
   "source": [
    "from math import asin \n",
    "from statsmodels.stats.power import zt_ind_solve_power\n",
    "\n",
    "# Создаем фуекцию для расчета эффекта между двумя долями конверсии\n",
    "\n",
    "def calc_proportion_effect_size(conv_1: float, nobs_1: int, conv_2: float, nobs_2: int) -> float:\n",
    "    prob_1, prob_2 = conv_1, conv_2\n",
    "    es_formula = 2 * asin(prob_1**0.5) - 2 * asin(prob_2**0.5)\n",
    "    return es_formula\n",
    "\n",
    "# Создаем функцию для расчета необходимого размера выборки\n",
    "\n",
    "\n",
    "def calc_sample_size_proportion(effect_size: float, alpha: float = .05, beta: float = .2, ratio: float = 1) -> int:\n",
    "    n = zt_ind_solve_power(effect_size=effect_size,\n",
    "                           alpha=alpha, power=(1 - beta), ratio=ratio)\n",
    "    return int(n*2)\n",
    "\n",
    "\n",
    "# Задаем начальные параметры\n",
    "traffic_per_day = 4000  # общее количество посетителей в день\n",
    "# доля конверсии на первой и второй странице соответственно\n",
    "conv_1, conv_2 = 60/100, 80/100\n",
    "# количество пользователей, покидающих первую страницу\n",
    "one_page_users = 40 * traffic_per_day / 100\n",
    "# количество наблюдений на первой и второй странице соответственно\n",
    "nobs_1, nobs_2 = traffic_per_day, traffic_per_day\n",
    "prob_1, prob_2 = conv_1, conv_2\n",
    "# расчет эффекта между двумя долями конверсии\n",
    "effect_size = calc_proportion_effect_size(conv_1, nobs_1, conv_2, nobs_2)\n",
    "# расчет необходимого размера выборки\n",
    "size = calc_sample_size_proportion(effect_size=effect_size, alpha=.05, beta=.2)\n",
    "\n",
    "# Вывод результатов\n",
    "print(\n",
    "    f\"Рекомендуемая выборка {size}, количество юзеров покидающих первую страницу в день {one_page_users:.0f}\")\n"
   ]
  },
  {
   "cell_type": "markdown",
   "metadata": {},
   "source": [
    "Если оптимизация сайта изменится на 20% относительно 40%, то она будет составлять 32%. Предположим, что bounce rate после оптимизации составит 20%. Это означает, что нужно посчитать долю посетителей, которые не покинули сайт после первой страницы. Для этого нужно взять выборку из 160 пользователей, что составляет 10% от всех \"отказников\" за сутки, и проанализировать результаты эксперимента в течение одного дня. Если количество отказов сократится до 20%, то эксперимент можно считать успешным.\n"
   ]
  }
 ],
 "metadata": {
  "kernelspec": {
   "display_name": "Python 3",
   "language": "python",
   "name": "python3"
  },
  "language_info": {
   "codemirror_mode": {
    "name": "ipython",
    "version": 3
   },
   "file_extension": ".py",
   "mimetype": "text/x-python",
   "name": "python",
   "nbconvert_exporter": "python",
   "pygments_lexer": "ipython3",
   "version": "3.11.2"
  },
  "orig_nbformat": 4
 },
 "nbformat": 4,
 "nbformat_minor": 2
}
